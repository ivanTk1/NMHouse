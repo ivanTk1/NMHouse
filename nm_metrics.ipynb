{
 "cells": [
  {
   "cell_type": "code",
   "execution_count": 30,
   "id": "9946f592",
   "metadata": {},
   "outputs": [],
   "source": [
    "from gerrychain import (GeographicPartition, Graph, \n",
    "                        updaters, Election)\n",
    "import numpy as np\n",
    "import statistics\n",
    "import geopandas as gpd\n"
   ]
  },
  {
   "cell_type": "code",
   "execution_count": 31,
   "id": "890afced",
   "metadata": {},
   "outputs": [],
   "source": [
    "def eg(part, election):\n",
    "    election_results = part[election]\n",
    "    dem_counts = election_results.votes(\"Democratic\")  \n",
    "    rep_counts = election_results.votes(\"Republican\")\n",
    "    \n",
    "    wasted_votes_dem = 0\n",
    "    wasted_votes_rep = 0\n",
    "\n",
    "    for i in range(len(dem_counts)): # <- not super familar with python so i used chatGPT with help on how to loop through a tuple\n",
    "        votes_dem = dem_counts[i]\n",
    "        votes_rep = rep_counts[i]\n",
    "        #calculating the total number of votes in the district and the minimum number of votes needed to win the district\n",
    "        total_votes = votes_dem + votes_rep\n",
    "        min_winning_votes = (total_votes // 2) + 1\n",
    "        # if the democratic candidate wins the district then the wasted votes for the republican candidate is the number of votes the republican candidate received\n",
    "        if votes_dem > votes_rep:\n",
    "            wasted_votes_dem += votes_dem - min_winning_votes\n",
    "            wasted_votes_rep += votes_rep\n",
    "        else:\n",
    "            wasted_votes_dem += votes_dem\n",
    "            wasted_votes_rep += votes_rep - min_winning_votes\n",
    "    #calculating the efficiency gap by subtracting the wasted votes of the democratic candidate from the wasted votes of the republican candidate and dividing by the total number of votes\n",
    "    total_votes_all = sum(dem_counts) + sum(rep_counts)\n",
    "    efficiency_gap = (wasted_votes_rep - wasted_votes_dem) / total_votes_all\n",
    "\n",
    "    return efficiency_gap\n"
   ]
  },
  {
   "cell_type": "code",
   "execution_count": 32,
   "id": "3fa21892",
   "metadata": {},
   "outputs": [],
   "source": [
    "def cut_edges_count(part):\n",
    "    graph = part.graph\n",
    "    assignment = part.assignment\n",
    "    count = 0\n",
    "    for node in graph.nodes:\n",
    "        district = assignment[node]\n",
    "        for neighbor in graph.neighbors(node):\n",
    "            if assignment[neighbor] != district:\n",
    "                count += 1\n",
    "\n",
    "    return count // 2  # Each cut edge is counted twice (once from each node), so divide by 2\n"
   ]
  },
  {
   "cell_type": "code",
   "execution_count": 33,
   "id": "b4a18b2c",
   "metadata": {},
   "outputs": [],
   "source": [
    "geo_df = gpd.read_file(\"./NM/NM.shp\")\n",
    "graph = Graph.from_geodataframe(geo_df)\n"
   ]
  },
  {
   "cell_type": "code",
   "execution_count": 34,
   "id": "7d10ffb8",
   "metadata": {},
   "outputs": [],
   "source": [
    "my_updaters = {\"population\": updaters.Tally(\"TOTPOP\", alias=\"population\")}\n",
    "\n",
    "elections = [\n",
    "    Election(\"USS18\", {\"Democratic\": \"G18USSD\", \"Republican\": \"G18USSR\"}),\n",
    "    Election(\"GOV18\", {\"Democratic\": \"G18GOVD\", \"Republican\": \"G18GOVR\"}),\n",
    "    Election(\"SOS18\", {\"Democratic\": \"G18SOSD\", \"Republican\": \"G18SOSR\"}),\n",
    "    Election(\"TRE18\", {\"Democratic\": \"G18TRED\", \"Republican\": \"G18TRER\"}),\n",
    "    Election(\"ATG18\", {\"Democratic\": \"G18ATGD\", \"Republican\": \"G18ATGR\"}),\n",
    "    Election(\"AUD18\", {\"Democratic\": \"G18AUDD\", \"Republican\": \"G18AUDR\"}),\n",
    "    Election(\"LND18\", {\"Democratic\": \"G18LNDD\", \"Republican\": \"G18LNDR\"}),\n",
    "]\n"
   ]
  },
  {
   "cell_type": "code",
   "execution_count": 35,
   "id": "d08ddc03",
   "metadata": {},
   "outputs": [],
   "source": [
    "election_updaters = {election.name: election for election in elections}\n",
    "my_updaters.update(election_updaters)\n"
   ]
  },
  {
   "cell_type": "code",
   "execution_count": 36,
   "id": "d8429137",
   "metadata": {},
   "outputs": [],
   "source": [
    "initial_partition = GeographicPartition(graph, \n",
    "                                        assignment= \"SACD\", updaters=my_updaters) "
   ]
  },
  {
   "cell_type": "code",
   "execution_count": 37,
   "id": "92179dc2",
   "metadata": {},
   "outputs": [
    {
     "name": "stdout",
     "output_type": "stream",
     "text": [
      "<class 'gerrychain.updaters.election.ElectionResults'>\n"
     ]
    }
   ],
   "source": [
    "ideal_population = sum(initial_partition[\"population\"].values()) / len(initial_partition)\n",
    "print(type(initial_partition[elections[0].name]))\n"
   ]
  },
  {
   "cell_type": "code",
   "execution_count": 38,
   "id": "c7eed413",
   "metadata": {},
   "outputs": [
    {
     "name": "stdout",
     "output_type": "stream",
     "text": [
      "Partisan bias:  0.014285714285714235\n"
     ]
    }
   ],
   "source": [
    "print(\"Partisan bias: \", initial_partition[elections[1].name].partisan_bias())\n"
   ]
  },
  {
   "cell_type": "code",
   "execution_count": 39,
   "id": "c8a0c909",
   "metadata": {},
   "outputs": [
    {
     "name": "stdout",
     "output_type": "stream",
     "text": [
      "Efficiency gap:  0.07919633460117526\n"
     ]
    }
   ],
   "source": [
    "print(\"Efficiency gap: \", eg(initial_partition, elections[1].name))"
   ]
  },
  {
   "cell_type": "code",
   "execution_count": 40,
   "id": "36594597",
   "metadata": {},
   "outputs": [
    {
     "name": "stdout",
     "output_type": "stream",
     "text": [
      "Cut edges: 1453\n"
     ]
    }
   ],
   "source": [
    "print(\"Cut edges:\", cut_edges_count(initial_partition))\n"
   ]
  }
 ],
 "metadata": {
  "kernelspec": {
   "display_name": "gerry",
   "language": "python",
   "name": "python3"
  },
  "language_info": {
   "codemirror_mode": {
    "name": "ipython",
    "version": 3
   },
   "file_extension": ".py",
   "mimetype": "text/x-python",
   "name": "python",
   "nbconvert_exporter": "python",
   "pygments_lexer": "ipython3",
   "version": "3.11.11"
  }
 },
 "nbformat": 4,
 "nbformat_minor": 5
}
