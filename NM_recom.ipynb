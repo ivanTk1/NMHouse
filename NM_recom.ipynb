{
 "cells": [
  {
   "cell_type": "markdown",
   "metadata": {},
   "source": []
  },
  {
   "cell_type": "code",
   "execution_count": 1,
   "metadata": {},
   "outputs": [],
   "source": [
    "import random\n",
    "random.seed(12345678)"
   ]
  },
  {
   "cell_type": "code",
   "execution_count": 2,
   "metadata": {},
   "outputs": [],
   "source": [
    "import matplotlib.pyplot as plt\n",
    "from gerrychain import (GeographicPartition, Partition, Graph, MarkovChain,\n",
    "                        proposals, updaters, constraints, accept, Election)\n",
    "from gerrychain.proposals import recom\n",
    "from functools import partial\n",
    "import pandas as pd\n",
    "import geopandas as gpd\n",
    "import csv\n",
    "import os\n",
    "import datetime  #For keeping track of runtime\n",
    "import tqdm # for progress bar"
   ]
  },
  {
   "cell_type": "code",
   "execution_count": 3,
   "metadata": {},
   "outputs": [
    {
     "name": "stdout",
     "output_type": "stream",
     "text": [
      "\n",
      "Begin date and time :  2025-04-30 19:19:34\n"
     ]
    }
   ],
   "source": [
    "beginrun = datetime.datetime.now()\n",
    "print (\"\\nBegin date and time : \", beginrun.strftime(\"%Y-%m-%d %H:%M:%S\"))"
   ]
  },
  {
   "cell_type": "code",
   "execution_count": 4,
   "metadata": {},
   "outputs": [],
   "source": [
    "outdir=\"./NM_recom_GOV18/\""
   ]
  },
  {
   "cell_type": "code",
   "execution_count": 5,
   "metadata": {},
   "outputs": [],
   "source": [
    "total_steps_in_run=1000000\n",
    "save_district_graph_mod=25000\n",
    "save_district_plot_mod=100000"
   ]
  },
  {
   "cell_type": "code",
   "execution_count": 6,
   "metadata": {},
   "outputs": [],
   "source": [
    "os.makedirs(outdir, exist_ok=True)\n",
    "graph = Graph.from_file(\"NM/NM.shp\")\n"
   ]
  },
  {
   "cell_type": "code",
   "execution_count": 7,
   "metadata": {},
   "outputs": [
    {
     "name": "stdout",
     "output_type": "stream",
     "text": [
      "dict_keys(['boundary_node', 'area', 'STATEFP', 'COUNTYFP', 'COUNTYNAME', 'VTDST', 'NAME', 'G20PRED', 'G20PRER', 'G20SACDIVE', 'G20SACRJOH', 'G20SACDHEN', 'G20SACRLEE', 'G20SACLCUR', 'G20SACDYOH', 'G20SACRMON', 'TOTPOP', 'HISP', 'NH_WHITE', 'NH_BLACK', 'NH_AMIN', 'NH_ASIAN', 'NH_NHPI', 'NH_OTHER', 'NH_2MORE', 'VAP', 'HVAP', 'WVAP', 'BVAP', 'AMINVAP', 'ASIANVAP', 'NHPIVAP', 'OTHERVAP', '2MOREVAP', 'G18USSD', 'G18USSR', 'G18GOVD', 'G18GOVR', 'G18SOSD', 'G18SOSR', 'G18TRED', 'G18TRER', 'G18ATGD', 'G18ATGR', 'G18AUDD', 'G18AUDR', 'G18LNDD', 'G18LNDR', 'SACD', 'geometry'])\n"
     ]
    }
   ],
   "source": [
    "elections = [\n",
    "    Election(\"USS18\", {\"Democratic\": \"G18USSD\", \"Republican\": \"G18USSR\"}),\n",
    "    Election(\"GOV18\", {\"Democratic\": \"G18GOVD\", \"Republican\": \"G18GOVR\"}),\n",
    "    Election(\"SOS18\", {\"Democratic\": \"G18SOSD\", \"Republican\": \"G18SOSR\"}),\n",
    "    Election(\"TRE18\", {\"Democratic\": \"G18TRED\", \"Republican\": \"G18TRER\"}),\n",
    "    Election(\"ATG18\", {\"Democratic\": \"G18ATGD\", \"Republican\": \"G18ATGR\"}),\n",
    "    Election(\"AUD18\", {\"Democratic\": \"G18AUDD\", \"Republican\": \"G18AUDR\"}),\n",
    "    Election(\"LND18\", {\"Democratic\": \"G18LNDD\", \"Republican\": \"G18LNDR\"}),\n",
    "]\n",
    "sample_node = next(iter(graph.nodes(data=True)))\n",
    "print(sample_node[1].keys())\n",
    "\n"
   ]
  },
  {
   "cell_type": "code",
   "execution_count": 8,
   "metadata": {},
   "outputs": [],
   "source": [
    "my_updaters = {\"population\": updaters.Tally(\"TOTPOP\", alias=\"population\")}"
   ]
  },
  {
   "cell_type": "code",
   "execution_count": 9,
   "metadata": {},
   "outputs": [
    {
     "name": "stdout",
     "output_type": "stream",
     "text": [
      "dict_keys(['boundary_node', 'area', 'STATEFP', 'COUNTYFP', 'COUNTYNAME', 'VTDST', 'NAME', 'G20PRED', 'G20PRER', 'G20SACDIVE', 'G20SACRJOH', 'G20SACDHEN', 'G20SACRLEE', 'G20SACLCUR', 'G20SACDYOH', 'G20SACRMON', 'TOTPOP', 'HISP', 'NH_WHITE', 'NH_BLACK', 'NH_AMIN', 'NH_ASIAN', 'NH_NHPI', 'NH_OTHER', 'NH_2MORE', 'VAP', 'HVAP', 'WVAP', 'BVAP', 'AMINVAP', 'ASIANVAP', 'NHPIVAP', 'OTHERVAP', '2MOREVAP', 'G18USSD', 'G18USSR', 'G18GOVD', 'G18GOVR', 'G18SOSD', 'G18SOSR', 'G18TRED', 'G18TRER', 'G18ATGD', 'G18ATGR', 'G18AUDD', 'G18AUDR', 'G18LNDD', 'G18LNDR', 'SACD', 'geometry'])\n"
     ]
    }
   ],
   "source": [
    "for _, data in graph.nodes(data=True):\n",
    "    print(data.keys())\n",
    "    break\n",
    "\n",
    "election_updaters = {election.name: election for election in elections}\n",
    "my_updaters.update(election_updaters)"
   ]
  },
  {
   "cell_type": "code",
   "execution_count": 10,
   "metadata": {},
   "outputs": [],
   "source": [
    "initial_partition = GeographicPartition(graph, \n",
    "                                        assignment= \"SACD\", #\"2011_PLA_1\",     # \"GOV\", \"REMEDIAL_P\", \n",
    "                                        updaters=my_updaters)"
   ]
  },
  {
   "cell_type": "code",
   "execution_count": 11,
   "metadata": {},
   "outputs": [],
   "source": [
    "ideal_population = sum(initial_partition[\"population\"].values()) / len(initial_partition)"
   ]
  },
  {
   "cell_type": "code",
   "execution_count": 12,
   "metadata": {},
   "outputs": [],
   "source": [
    "proposal = partial(recom,\n",
    "                   pop_col=\"TOTPOP\",\n",
    "                   pop_target=ideal_population,\n",
    "                   epsilon=0.1,\n",
    "                   node_repeats=3\n",
    "                  )"
   ]
  },
  {
   "cell_type": "code",
   "execution_count": 13,
   "metadata": {},
   "outputs": [],
   "source": [
    "compactness_bound = constraints.UpperBound(\n",
    "    lambda p: len(p[\"cut_edges\"]),\n",
    "    2*len(initial_partition[\"cut_edges\"])\n",
    ")"
   ]
  },
  {
   "cell_type": "code",
   "execution_count": 14,
   "metadata": {},
   "outputs": [],
   "source": [
    "pop_constraint = constraints.within_percent_of_ideal_population(initial_partition, 0.15)"
   ]
  },
  {
   "cell_type": "code",
   "execution_count": 15,
   "metadata": {},
   "outputs": [],
   "source": [
    "chain = MarkovChain(\n",
    "    proposal=proposal,\n",
    "    constraints=[\n",
    "        pop_constraint,\n",
    "        compactness_bound\n",
    "    ],\n",
    "    accept=accept.always_accept,\n",
    "    initial_state=initial_partition,\n",
    "    total_steps=total_steps_in_run\n",
    "    )\n",
    "\n"
   ]
  },
  {
   "cell_type": "code",
   "execution_count": 16,
   "metadata": {},
   "outputs": [
    {
     "name": "stderr",
     "output_type": "stream",
     "text": [
      "c:\\Users\\fortn\\anaconda3\\envs\\gerry\\Lib\\site-packages\\tqdm\\auto.py:21: TqdmWarning: IProgress not found. Please update jupyter and ipywidgets. See https://ipywidgets.readthedocs.io/en/stable/user_install.html\n",
      "  from .autonotebook import tqdm as notebook_tqdm\n",
      "  1%|          | 8121/1000000 [01:59<3:57:30, 69.60it/s] c:\\Users\\fortn\\anaconda3\\envs\\gerry\\Lib\\site-packages\\gerrychain\\tree.py:704: BipartitionWarning: \n",
      "Failed to find a balanced cut after 1000 attempts.\n",
      "If possible, consider enabling pair reselection within your\n",
      "MarkovChain proposal method to allow the algorithm to select\n",
      "a different pair of districts for recombination.\n",
      "  warnings.warn(\n",
      "100%|██████████| 1000000/1000000 [16:00:00<00:00, 17.36it/s]       \n"
     ]
    }
   ],
   "source": [
    "data = pd.DataFrame(\n",
    "    sorted(partition[\"GOV18\"].percents(\"Democratic\"))\n",
    "    for partition in chain.with_progress_bar()\n",
    ")"
   ]
  },
  {
   "cell_type": "code",
   "execution_count": 17,
   "metadata": {},
   "outputs": [
    {
     "data": {
      "image/png": "[encoded data removed]",
      "text/plain": [
       "<Figure size 800x600 with 1 Axes>"
      ]
     },
     "metadata": {},
     "output_type": "display_data"
    }
   ],
   "source": [
    "fig, ax = plt.subplots(figsize=(8, 6))\n",
    "\n",
    "# Draw 50% line\n",
    "ax.axhline(0.5, color=\"#cccccc\")\n",
    "\n",
    "# Draw boxplot\n",
    "data.boxplot(ax=ax, positions=range(len(data.columns)))\n",
    "\n",
    "# Draw initial plan's Democratic vote %s (.iloc[0] gives the first row, which corresponds to the initial plan)\n",
    "plt.plot(data.iloc[0], \"ro\")\n",
    "\n",
    "# Annotate\n",
    "ax.set_title(\"Comparing the 2011 plan to an ensemble\")\n",
    "ax.set_ylabel(\"Democratic vote % (Senate 2016)\")\n",
    "ax.set_xlabel(\"Sorted districts\")\n",
    "ax.set_ylim(0.25, 1)\n",
    "ax.set_yticks([0.3, 0.4, 0.5, 0.6, 0.7, 0.8, 0.9, 1])\n",
    "plt.savefig('PAbox_plotSen2016.png')\n",
    "plt.show()"
   ]
  },
  {
   "cell_type": "code",
   "execution_count": 18,
   "metadata": {},
   "outputs": [],
   "source": [
    "df=gpd.read_file(\"NM/NM.shp\")"
   ]
  },
  {
   "cell_type": "code",
   "execution_count": 19,
   "metadata": {},
   "outputs": [],
   "source": [
    "index_output_file = outdir + \"_index.csv\""
   ]
  },
  {
   "cell_type": "code",
   "execution_count": 20,
   "metadata": {},
   "outputs": [
    {
     "name": "stderr",
     "output_type": "stream",
     "text": [
      "c:\\Users\\fortn\\anaconda3\\envs\\gerry\\Lib\\site-packages\\gerrychain\\tree.py:704: BipartitionWarning: \n",
      "Failed to find a balanced cut after 1000 attempts.\n",
      "If possible, consider enabling pair reselection within your\n",
      "MarkovChain proposal method to allow the algorithm to select\n",
      "a different pair of districts for recombination.\n",
      "  warnings.warn(\n",
      "c:\\Users\\fortn\\anaconda3\\envs\\gerry\\Lib\\site-packages\\gerrychain\\tree.py:704: BipartitionWarning: \n",
      "Failed to find a balanced cut after 1000 attempts.\n",
      "If possible, consider enabling pair reselection within your\n",
      "MarkovChain proposal method to allow the algorithm to select\n",
      "a different pair of districts for recombination.\n",
      "  warnings.warn(\n",
      "c:\\Users\\fortn\\anaconda3\\envs\\gerry\\Lib\\site-packages\\gerrychain\\tree.py:704: BipartitionWarning: \n",
      "Failed to find a balanced cut after 1000 attempts.\n",
      "If possible, consider enabling pair reselection within your\n",
      "MarkovChain proposal method to allow the algorithm to select\n",
      "a different pair of districts for recombination.\n",
      "  warnings.warn(\n",
      "c:\\Users\\fortn\\anaconda3\\envs\\gerry\\Lib\\site-packages\\gerrychain\\tree.py:704: BipartitionWarning: \n",
      "Failed to find a balanced cut after 1000 attempts.\n",
      "If possible, consider enabling pair reselection within your\n",
      "MarkovChain proposal method to allow the algorithm to select\n",
      "a different pair of districts for recombination.\n",
      "  warnings.warn(\n",
      "c:\\Users\\fortn\\anaconda3\\envs\\gerry\\Lib\\site-packages\\gerrychain\\tree.py:704: BipartitionWarning: \n",
      "Failed to find a balanced cut after 1000 attempts.\n",
      "If possible, consider enabling pair reselection within your\n",
      "MarkovChain proposal method to allow the algorithm to select\n",
      "a different pair of districts for recombination.\n",
      "  warnings.warn(\n",
      "c:\\Users\\fortn\\anaconda3\\envs\\gerry\\Lib\\site-packages\\gerrychain\\tree.py:704: BipartitionWarning: \n",
      "Failed to find a balanced cut after 1000 attempts.\n",
      "If possible, consider enabling pair reselection within your\n",
      "MarkovChain proposal method to allow the algorithm to select\n",
      "a different pair of districts for recombination.\n",
      "  warnings.warn(\n",
      "c:\\Users\\fortn\\anaconda3\\envs\\gerry\\Lib\\site-packages\\gerrychain\\tree.py:704: BipartitionWarning: \n",
      "Failed to find a balanced cut after 1000 attempts.\n",
      "If possible, consider enabling pair reselection within your\n",
      "MarkovChain proposal method to allow the algorithm to select\n",
      "a different pair of districts for recombination.\n",
      "  warnings.warn(\n",
      "c:\\Users\\fortn\\anaconda3\\envs\\gerry\\Lib\\site-packages\\gerrychain\\tree.py:704: BipartitionWarning: \n",
      "Failed to find a balanced cut after 1000 attempts.\n",
      "If possible, consider enabling pair reselection within your\n",
      "MarkovChain proposal method to allow the algorithm to select\n",
      "a different pair of districts for recombination.\n",
      "  warnings.warn(\n"
     ]
    }
   ],
   "source": [
    "with open(index_output_file, mode='w') as index_file:\n",
    "    index_writer = csv.writer(index_file, delimiter=',', quotechar='\"', quoting=csv.QUOTE_MINIMAL)\n",
    "    \n",
    "    #Run through chain, building \n",
    "    for t, part in enumerate(chain):\n",
    "        if t%save_district_graph_mod==0:\n",
    "            tmp_str=str(t)\n",
    "            file_prefix=tmp_str.rjust(8,'0')\n",
    "            \n",
    "            #Add file names to index file            \n",
    "            edges_output_file = outdir + file_prefix + \"_edges.csv\"\n",
    "            districts_output_file = outdir + file_prefix + \"_districts.csv\"            \n",
    "            index_writer.writerow([\"./\" + file_prefix + \"_districts.csv\", \"./\" + file_prefix + \"_edges.csv\"])\n",
    "                        \n",
    "\n",
    "            #Build the district graph and write edges to file    \n",
    "            s=set()\n",
    "            for e in part[\"cut_edges\"]:\n",
    "                s.add( (part.assignment[e[0]],part.assignment[e[1]] ))\n",
    "                #s.add( (e[0],e[1]) )\n",
    "                \n",
    "            with open(edges_output_file, mode='w') as edges_file:\n",
    "                edges_writer = csv.writer(edges_file, delimiter=',', quotechar='\"', quoting=csv.QUOTE_MINIMAL)\n",
    "        \n",
    "                for e1 in s:\n",
    "                    edges_writer.writerow([e1[0],e1[1]])\n",
    "               \n",
    "            \n",
    "            #Build the district file that contains election results\n",
    "            D_votes = part[\"GOV18\"].votes(\"Democratic\") \n",
    "            R_votes = part[\"GOV18\"].votes(\"Republican\") \n",
    "           \n",
    "            with open(districts_output_file, mode='w') as districts_file:            \n",
    "                districts_writer = csv.writer(districts_file, delimiter=',', quotechar='\"', quoting=csv.QUOTE_MINIMAL)\n",
    "        \n",
    "                for i in range(len(D_votes)):\n",
    "                    districts_writer.writerow([i+1, int(D_votes[i]),int(R_votes[i]),0])\n",
    "             \n",
    "        if t%save_district_plot_mod==0:\n",
    "            df.plot(pd.Series([part.assignment[i] for i in df.index]), cmap=\"tab20\", figsize=(16,8))\n",
    "            #plt.show()\n",
    "            plot_output_file = outdir + file_prefix + \"_plot.png\"\n",
    "            plt.savefig(plot_output_file)\n",
    "            plt.close()\n",
    "    \n",
    "            "
   ]
  },
  {
   "cell_type": "markdown",
   "metadata": {},
   "source": [
    "And if you want to find the total time:"
   ]
  },
  {
   "cell_type": "code",
   "execution_count": 21,
   "metadata": {},
   "outputs": [
    {
     "name": "stdout",
     "output_type": "stream",
     "text": [
      "\n",
      "End date and time :  2025-05-01 18:05:53\n",
      "\n",
      "Total time:  22:46:18.701666\n"
     ]
    }
   ],
   "source": [
    "endrun = datetime.datetime.now()\n",
    "print (\"\\nEnd date and time : \", endrun.strftime(\"%Y-%m-%d %H:%M:%S\"))\n",
    "\n",
    "    \n",
    "diff=endrun-beginrun\n",
    "print(\"\\nTotal time: \", str(diff))"
   ]
  },
  {
   "cell_type": "code",
   "execution_count": null,
   "metadata": {},
   "outputs": [],
   "source": []
  }
 ],
 "metadata": {
  "kernelspec": {
   "display_name": "gerry",
   "language": "python",
   "name": "python3"
  },
  "language_info": {
   "codemirror_mode": {
    "name": "ipython",
    "version": 3
   },
   "file_extension": ".py",
   "mimetype": "text/x-python",
   "name": "python",
   "nbconvert_exporter": "python",
   "pygments_lexer": "ipython3",
   "version": "3.11.11"
  }
 },
 "nbformat": 4,
 "nbformat_minor": 4
}
